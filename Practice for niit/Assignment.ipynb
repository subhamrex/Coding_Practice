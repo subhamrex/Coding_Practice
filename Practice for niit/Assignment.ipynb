{
 "cells": [
  {
   "cell_type": "markdown",
   "metadata": {
    "id": "eMfPmiyyxuVA"
   },
   "source": [
    "# Python Assignment Solution"
   ]
  },
  {
   "cell_type": "markdown",
   "metadata": {
    "id": "dDpj5JLcxuVK"
   },
   "source": [
    "This is an easy assignment to test your overall knowledge and mastery of fundamentdals of Python. The expected output of all the questions will also be given. Write your answer in the proper designated cell. Do not write the answer in the cell where the desired output is given. Write the answer acording to the instructions given in the question and replicate the output."
   ]
  },
  {
   "cell_type": "markdown",
   "metadata": {
    "id": "F_9MHuuQxuVL"
   },
   "source": [
    "**1. Declare a variable named `first_name`, assign the value \"James\" (or 'James') to it and then print it.**"
   ]
  },
  {
   "cell_type": "code",
   "execution_count": 1,
   "metadata": {
    "id": "9JQc8xuKxuVM"
   },
   "outputs": [
    {
     "name": "stdout",
     "output_type": "stream",
     "text": [
      "James\n"
     ]
    }
   ],
   "source": [
    "# Your answer goes here\n",
    "first_name = \"James\"\n",
    "print(first_name)"
   ]
  },
  {
   "cell_type": "code",
   "execution_count": null,
   "metadata": {
    "id": "WAgTtz7CxuVM",
    "outputId": "796cf28c-efce-4397-e1c7-98959f6f7477"
   },
   "outputs": [
    {
     "name": "stdout",
     "output_type": "stream",
     "text": [
      "James\n"
     ]
    }
   ],
   "source": [
    "# Do not write anything here"
   ]
  },
  {
   "cell_type": "markdown",
   "metadata": {
    "id": "zt0_R_SOxuVN"
   },
   "source": [
    "**2. Given a variable named `temp = 100`, write the code to prints it's data type.**"
   ]
  },
  {
   "cell_type": "code",
   "execution_count": 2,
   "metadata": {
    "id": "2hjflYP8xuVO"
   },
   "outputs": [
    {
     "name": "stdout",
     "output_type": "stream",
     "text": [
      "<class 'int'>\n"
     ]
    }
   ],
   "source": [
    "# Your answer goes here\n",
    "temp = 100\n",
    "print(type(temp))"
   ]
  },
  {
   "cell_type": "code",
   "execution_count": null,
   "metadata": {
    "id": "jdVl563gxuVO",
    "outputId": "f523e860-63a4-4983-ed5e-5d2cf27c993b"
   },
   "outputs": [
    {
     "name": "stdout",
     "output_type": "stream",
     "text": [
      "<class 'int'>\n"
     ]
    }
   ],
   "source": [
    "# Do not write anything here"
   ]
  },
  {
   "cell_type": "markdown",
   "metadata": {
    "id": "oJlbJpOlxuVP"
   },
   "source": [
    "**3. Write the single line of missing code to get the desired output.**"
   ]
  },
  {
   "cell_type": "code",
   "execution_count": 3,
   "metadata": {
    "id": "h_EdjSpQxuVP"
   },
   "outputs": [
    {
     "name": "stdout",
     "output_type": "stream",
     "text": [
      "Hello_World\n"
     ]
    }
   ],
   "source": [
    "# Write only one line of code below (do not change the code at the bottom)\n",
    "print(\"Hello\",end=\"_\")\n",
    "print(\"World\")"
   ]
  },
  {
   "cell_type": "code",
   "execution_count": null,
   "metadata": {
    "id": "9jfluhdDxuVP",
    "outputId": "8402bff6-b07a-4d92-d050-990879417a88"
   },
   "outputs": [
    {
     "name": "stdout",
     "output_type": "stream",
     "text": [
      "Hello_World\n"
     ]
    }
   ],
   "source": [
    "# Do not write anything here"
   ]
  },
  {
   "cell_type": "markdown",
   "metadata": {
    "id": "mXUyT0XbxuVQ"
   },
   "source": [
    "**4. For `var = 15 + 21j`, print the desired output.**"
   ]
  },
  {
   "cell_type": "code",
   "execution_count": 4,
   "metadata": {
    "id": "KmMcorfWxuVQ"
   },
   "outputs": [
    {
     "name": "stdout",
     "output_type": "stream",
     "text": [
      "36.0\n"
     ]
    }
   ],
   "source": [
    "# Your answer goes here\n",
    "var = 15 + 21j\n",
    "print(var.real + var.imag)"
   ]
  },
  {
   "cell_type": "code",
   "execution_count": null,
   "metadata": {
    "id": "p6T0EYd1xuVQ",
    "outputId": "215d7ceb-4e86-4694-820a-8ce7797bb89e"
   },
   "outputs": [
    {
     "name": "stdout",
     "output_type": "stream",
     "text": [
      "36.0\n"
     ]
    }
   ],
   "source": [
    "# Do not write anything here"
   ]
  },
  {
   "cell_type": "markdown",
   "metadata": {
    "id": "BDjNhYzCxuVR"
   },
   "source": [
    "**5. Create a string `s` with the value `'Python'` and then print it's length.**"
   ]
  },
  {
   "cell_type": "code",
   "execution_count": 5,
   "metadata": {
    "id": "VNP5jVuAxuVR"
   },
   "outputs": [
    {
     "name": "stdout",
     "output_type": "stream",
     "text": [
      "6\n"
     ]
    }
   ],
   "source": [
    "# Your answer goes here\n",
    "s = 'Python'\n",
    "print(len(s))"
   ]
  },
  {
   "cell_type": "code",
   "execution_count": null,
   "metadata": {
    "id": "dkkXCdsTxuVR",
    "outputId": "5016c6a5-6415-46b7-e7df-5df98ac34aa6"
   },
   "outputs": [
    {
     "name": "stdout",
     "output_type": "stream",
     "text": [
      "6\n"
     ]
    }
   ],
   "source": [
    "# Do not write anything here"
   ]
  },
  {
   "cell_type": "markdown",
   "metadata": {
    "id": "UAZSXY7axuVS"
   },
   "source": [
    "**6. Check if first letter of every word in a given string `s = \"Hello World\"` is upper case or not.**"
   ]
  },
  {
   "cell_type": "code",
   "execution_count": 6,
   "metadata": {
    "id": "w9dExsR_xuVS"
   },
   "outputs": [
    {
     "name": "stdout",
     "output_type": "stream",
     "text": [
      "True\n"
     ]
    }
   ],
   "source": [
    "# Your answer goes here\n",
    "s = \"Hello World\"\n",
    "print(s.istitle())\n"
   ]
  },
  {
   "cell_type": "code",
   "execution_count": null,
   "metadata": {
    "id": "QLfdaBtvxuVS",
    "outputId": "37e84831-5177-4408-ead1-cc4f29b3531c"
   },
   "outputs": [
    {
     "data": {
      "text/plain": [
       "True"
      ]
     },
     "execution_count": 6,
     "metadata": {
      "tags": []
     },
     "output_type": "execute_result"
    }
   ],
   "source": [
    "# Do not write anything here"
   ]
  },
  {
   "cell_type": "markdown",
   "metadata": {
    "id": "U5I9TDLjxuVT"
   },
   "source": [
    "**7. Convert the string `s = \"Hello World\"` to upper case without using the function `upper()`.**"
   ]
  },
  {
   "cell_type": "code",
   "execution_count": 14,
   "metadata": {
    "id": "5X_4v7-KxuVT"
   },
   "outputs": [
    {
     "name": "stdout",
     "output_type": "stream",
     "text": [
      "HELLO WORLD\n"
     ]
    }
   ],
   "source": [
    "s = \"Hello World\"\n",
    "# Your answer goes here\n",
    "s = s.lower().swapcase()\n",
    "print(s)\n"
   ]
  },
  {
   "cell_type": "code",
   "execution_count": null,
   "metadata": {
    "id": "0rsXDEKnxuVT",
    "outputId": "e50a9778-f338-49bf-8cd0-a5d372287e64"
   },
   "outputs": [
    {
     "data": {
      "text/plain": [
       "'HELLO WORLD'"
      ]
     },
     "execution_count": 7,
     "metadata": {
      "tags": []
     },
     "output_type": "execute_result"
    }
   ],
   "source": [
    "# Do not write anything here"
   ]
  },
  {
   "cell_type": "markdown",
   "metadata": {
    "id": "nvwG6b9DxuVU"
   },
   "source": [
    "**8. Convert only the first and last character of `s = \"hello world\"` to upper case.**"
   ]
  },
  {
   "cell_type": "code",
   "execution_count": 18,
   "metadata": {
    "id": "6E_cO5wbxuVU"
   },
   "outputs": [
    {
     "name": "stdout",
     "output_type": "stream",
     "text": [
      "Hello worlD\n"
     ]
    }
   ],
   "source": [
    "s = \"hello world\"\n",
    "result = \"\"\n",
    "for i in range(len(s)):\n",
    "    char = ord(s[i])\n",
    "    if char >= 97 and char <= 122 and (i == 0 or i == len(s)-1):\n",
    "        result += chr(char-32)\n",
    "    else:\n",
    "        result += s[i]   \n",
    "print(result) "
   ]
  },
  {
   "cell_type": "code",
   "execution_count": null,
   "metadata": {
    "id": "TtLWCqTGxuVU",
    "outputId": "37bb9826-100c-4121-b0b5-1711b144f483"
   },
   "outputs": [
    {
     "data": {
      "text/plain": [
       "'Hello worlD'"
      ]
     },
     "execution_count": 8,
     "metadata": {
      "tags": []
     },
     "output_type": "execute_result"
    }
   ],
   "source": [
    "# Do not write anything here"
   ]
  },
  {
   "cell_type": "markdown",
   "metadata": {
    "id": "NOnqZzetxuVV"
   },
   "source": [
    "**9. In the string `s = \"My name is John.\"` replace 'a' by 'p' and 'n' by 'q'.**"
   ]
  },
  {
   "cell_type": "code",
   "execution_count": 19,
   "metadata": {
    "id": "CmdSTFBmxuVV"
   },
   "outputs": [
    {
     "data": {
      "text/plain": [
       "'My qpme is Johq.'"
      ]
     },
     "execution_count": 19,
     "metadata": {},
     "output_type": "execute_result"
    }
   ],
   "source": [
    "s = \"My name is John.\"\n",
    "# Your answer goes here\n",
    "s.replace('a','p').replace('n','q')"
   ]
  },
  {
   "cell_type": "code",
   "execution_count": null,
   "metadata": {
    "id": "fBUIEsjqxuVV",
    "outputId": "6545f367-46f6-41f1-d3df-284e4bc5fdf4"
   },
   "outputs": [
    {
     "data": {
      "text/plain": [
       "'My qpme is Johq.'"
      ]
     },
     "execution_count": 9,
     "metadata": {
      "tags": []
     },
     "output_type": "execute_result"
    }
   ],
   "source": [
    "# Do not write anything here"
   ]
  },
  {
   "cell_type": "markdown",
   "metadata": {
    "id": "_CFdTEn6xuVV"
   },
   "source": [
    "**10. Check if all characters in a string `s = \"Hello123\"` are alphanumeric.**"
   ]
  },
  {
   "cell_type": "code",
   "execution_count": 20,
   "metadata": {
    "id": "U8m4gm2oxuVW"
   },
   "outputs": [
    {
     "name": "stdout",
     "output_type": "stream",
     "text": [
      "True\n"
     ]
    }
   ],
   "source": [
    "# Your answer goes here\n",
    "s = \"Hello123\"\n",
    "print(s.isalnum())"
   ]
  },
  {
   "cell_type": "code",
   "execution_count": null,
   "metadata": {
    "id": "JPU2J7pTxuVW",
    "outputId": "860a8cdf-951c-4217-a466-68ad07775653"
   },
   "outputs": [
    {
     "data": {
      "text/plain": [
       "True"
      ]
     },
     "execution_count": 10,
     "metadata": {
      "tags": []
     },
     "output_type": "execute_result"
    }
   ],
   "source": [
    "# Do not write anything here"
   ]
  },
  {
   "cell_type": "markdown",
   "metadata": {
    "id": "hN_AbgMrxuVW"
   },
   "source": [
    "**11. Get the desired output with a single print statement.**"
   ]
  },
  {
   "cell_type": "code",
   "execution_count": 21,
   "metadata": {
    "id": "-JLD6JizxuVX"
   },
   "outputs": [
    {
     "name": "stdout",
     "output_type": "stream",
     "text": [
      "Hello\n",
      "World\n"
     ]
    }
   ],
   "source": [
    "# Your answer goes here\n",
    "print(\"Hello\\nWorld\")"
   ]
  },
  {
   "cell_type": "code",
   "execution_count": null,
   "metadata": {
    "id": "AZgcH8AnxuVX",
    "outputId": "0f94b92d-c8f6-444b-92a3-0dc50a393fae"
   },
   "outputs": [
    {
     "name": "stdout",
     "output_type": "stream",
     "text": [
      "Hello\n",
      "World\n"
     ]
    }
   ],
   "source": [
    "# Do not write anything here"
   ]
  },
  {
   "cell_type": "markdown",
   "metadata": {
    "id": "fH1oafapxuVX"
   },
   "source": [
    "**12. Print the value of 19 raised to the power of 5.**"
   ]
  },
  {
   "cell_type": "code",
   "execution_count": 24,
   "metadata": {
    "id": "Bx2v-qOvxuVX"
   },
   "outputs": [
    {
     "name": "stdout",
     "output_type": "stream",
     "text": [
      "2476099.0\n"
     ]
    }
   ],
   "source": [
    "# Your answer goes here\n",
    "import math\n",
    "print(math.pow(19,5))"
   ]
  },
  {
   "cell_type": "code",
   "execution_count": null,
   "metadata": {
    "id": "qoegD-TpxuVY",
    "outputId": "16d0e720-2fe6-411f-eb28-a838c1f9641d"
   },
   "outputs": [
    {
     "data": {
      "text/plain": [
       "2476099.0"
      ]
     },
     "execution_count": 12,
     "metadata": {
      "tags": []
     },
     "output_type": "execute_result"
    }
   ],
   "source": [
    "# Do not write anything here"
   ]
  },
  {
   "cell_type": "markdown",
   "metadata": {
    "id": "GlQFLzRqxuVY"
   },
   "source": [
    "**13. Using `s = \"Hello John.\\n Good Morning!\"`, obtain a list as shown in output.**"
   ]
  },
  {
   "cell_type": "code",
   "execution_count": 28,
   "metadata": {
    "id": "9afeUc_FxuVY"
   },
   "outputs": [
    {
     "name": "stdout",
     "output_type": "stream",
     "text": [
      "['Hello', 'John.\\n', 'Good', 'Morning!']\n"
     ]
    }
   ],
   "source": [
    "# Your answer goes here\n",
    "s = \"Hello John.\\n Good Morning!\"\n",
    "print(s.split(\" \"))\n"
   ]
  },
  {
   "cell_type": "code",
   "execution_count": null,
   "metadata": {
    "id": "0WeZnRWExuVY",
    "outputId": "100446f0-b088-468a-c266-084f4ce59d04"
   },
   "outputs": [
    {
     "data": {
      "text/plain": [
       "['Hello', 'John.\\n', 'Good', 'Morning!']"
      ]
     },
     "execution_count": 13,
     "metadata": {
      "tags": []
     },
     "output_type": "execute_result"
    }
   ],
   "source": [
    "# Do not write anything here"
   ]
  },
  {
   "cell_type": "markdown",
   "metadata": {
    "id": "biCxMFIgxuVZ"
   },
   "source": [
    "**14. Given `name = 'Michael'` and `marks = 80` print the desired output using `format()`.**"
   ]
  },
  {
   "cell_type": "code",
   "execution_count": 30,
   "metadata": {
    "id": "UN-C_S6gxuVZ"
   },
   "outputs": [
    {
     "name": "stdout",
     "output_type": "stream",
     "text": [
      "Michael has received 80 marks in the last exam.\n"
     ]
    }
   ],
   "source": [
    "# Your answer goes here\n",
    "name = 'Michael'\n",
    "marks = 80\n",
    "print(\"{0} has received {1} marks in the last exam.\".format(name,marks))"
   ]
  },
  {
   "cell_type": "code",
   "execution_count": null,
   "metadata": {
    "id": "9mqV0J-gxuVZ",
    "outputId": "9a1ef4da-f27d-4e34-dd59-c9a6f230f5c9"
   },
   "outputs": [
    {
     "name": "stdout",
     "output_type": "stream",
     "text": [
      "Michael has received 80 marks in the last exam.\n"
     ]
    }
   ],
   "source": [
    "# Do not write anything here"
   ]
  },
  {
   "cell_type": "markdown",
   "metadata": {
    "id": "IME8kBxZxuVZ"
   },
   "source": [
    "**15. Prompt the user to input their first name, and store it in a variable called `name`. Then check if thew name is  `\"John\"` or not.**"
   ]
  },
  {
   "cell_type": "code",
   "execution_count": 1,
   "metadata": {
    "id": "tz3OGYkUxuVa"
   },
   "outputs": [
    {
     "name": "stdout",
     "output_type": "stream",
     "text": [
      "Enter first name: John\n",
      "True\n"
     ]
    }
   ],
   "source": [
    "# Your answer goes here\n",
    "name = input(\"Enter first name: \")\n",
    "c = True if name == \"John\" else False\n",
    "print(c)"
   ]
  },
  {
   "cell_type": "code",
   "execution_count": null,
   "metadata": {
    "id": "Jm-yY0cFxuVa",
    "outputId": "0c0ef12f-43ae-43d5-f106-edb2b47c8b53"
   },
   "outputs": [
    {
     "name": "stdout",
     "output_type": "stream",
     "text": [
      "Enter first name: John\n",
      "True\n"
     ]
    }
   ],
   "source": [
    "# Do not write anything here"
   ]
  },
  {
   "cell_type": "markdown",
   "metadata": {
    "id": "f3QqrXmMxuVa"
   },
   "source": [
    "**16. For `ar = [-99, -20, 19, 50, 89, 100]` check which of the values lie within a range of [-20, 100).**"
   ]
  },
  {
   "cell_type": "code",
   "execution_count": 39,
   "metadata": {
    "id": "7ckJYn4exuVa"
   },
   "outputs": [
    {
     "name": "stdout",
     "output_type": "stream",
     "text": [
      "-99: False\n",
      "-20: True\n",
      "19: True\n",
      "50: True\n",
      "89: True\n",
      "100: False\n"
     ]
    }
   ],
   "source": [
    "# Your answer goes here\n",
    "ar = [-99, -20, 19, 50, 89, 100] \n",
    "for i in range(len(ar)):\n",
    "    if -20 <= ar[i] < 100:\n",
    "        print(f\"{ar[i]}: {True}\")\n",
    "    else:\n",
    "        print(f\"{ar[i]}: {False}\")   "
   ]
  },
  {
   "cell_type": "code",
   "execution_count": null,
   "metadata": {
    "id": "c0DcaSfrxuVb",
    "outputId": "4a610e7e-59b9-4292-d31e-7c8ec708c888"
   },
   "outputs": [
    {
     "name": "stdout",
     "output_type": "stream",
     "text": [
      "-99: False\n",
      "-20: True\n",
      "19: True\n",
      "50: True\n",
      "89: True\n",
      "100: False\n"
     ]
    }
   ],
   "source": [
    "# Do not write anything here"
   ]
  },
  {
   "cell_type": "markdown",
   "metadata": {
    "id": "GHiK6nHVxuVb"
   },
   "source": [
    "**17. Take two integer inputs from the user and check if they are equal.**"
   ]
  },
  {
   "cell_type": "code",
   "execution_count": 2,
   "metadata": {
    "id": "mqfHocKwxuVb"
   },
   "outputs": [
    {
     "name": "stdout",
     "output_type": "stream",
     "text": [
      "20\n",
      "20\n",
      "True\n"
     ]
    }
   ],
   "source": [
    "# Your answer goes here\n",
    "a = int(input())\n",
    "b = int(input())\n",
    "print(True if a==b else False)"
   ]
  },
  {
   "cell_type": "code",
   "execution_count": null,
   "metadata": {
    "id": "tg2CsO9UxuVb",
    "outputId": "ea81ab96-11b3-46d4-cf7b-61f0d74003f3"
   },
   "outputs": [
    {
     "name": "stdout",
     "output_type": "stream",
     "text": [
      "20\n",
      "20\n",
      "True\n"
     ]
    }
   ],
   "source": [
    "# Do not write anything here"
   ]
  },
  {
   "cell_type": "markdown",
   "metadata": {
    "id": "xlZv0641xuVc"
   },
   "source": [
    "**18. You have 3 numbers a, b, c. Check if their sum is equal to 20, less than 20 and greater than 20.**"
   ]
  },
  {
   "cell_type": "code",
   "execution_count": 7,
   "metadata": {
    "id": "DomYkc9zxuVc"
   },
   "outputs": [
    {
     "name": "stdout",
     "output_type": "stream",
     "text": [
      "a: 10, b: 15, c: 3\n",
      "Sum is equal to 20: False\n",
      "Sum is less than 20: False\n",
      "Sum is greater than 20: True\n"
     ]
    }
   ],
   "source": [
    "# Your answer goes here\n",
    "a,b,c = 10,15,3\n",
    "sum_of_no = a + b + c\n",
    "print(f\"a: {a}, b: {b}, c: {c}\")\n",
    "print(f\"Sum is equal to 20: {sum_of_no == 20}\")\n",
    "print(f\"Sum is less than 20: {sum_of_no < 20}\")  \n",
    "print(f\"Sum is greater than 20: {sum_of_no > 20}\")      "
   ]
  },
  {
   "cell_type": "code",
   "execution_count": null,
   "metadata": {
    "id": "koq8arSRxuVc",
    "outputId": "5c59523f-1a6e-4456-8917-fd89766e58bf"
   },
   "outputs": [
    {
     "name": "stdout",
     "output_type": "stream",
     "text": [
      "a: 10, b: 15, c: 3\n",
      "Sum is equal to 20: False\n",
      "Sum is less than 20: True\n",
      "Sum is greater than 20: False\n"
     ]
    }
   ],
   "source": [
    "# Do not write anything here"
   ]
  },
  {
   "cell_type": "markdown",
   "metadata": {
    "id": "U1QD1-WSxuVc"
   },
   "source": [
    "**19. Calculate nad print the area of a circle with radius `r = 15`**"
   ]
  },
  {
   "cell_type": "code",
   "execution_count": 2,
   "metadata": {
    "id": "au1tCZHQxuVd"
   },
   "outputs": [
    {
     "name": "stdout",
     "output_type": "stream",
     "text": [
      "Area: 706.8583470577034\n"
     ]
    }
   ],
   "source": [
    "# Your answer goes here\n",
    "import math\n",
    "r = 15\n",
    "print(f\"Area: {math.pi*(r**2)}\")"
   ]
  },
  {
   "cell_type": "code",
   "execution_count": null,
   "metadata": {
    "id": "4XJdkHIcxuVd",
    "outputId": "feefc1ec-baed-46c3-edcc-685e9ea8380d"
   },
   "outputs": [
    {
     "name": "stdout",
     "output_type": "stream",
     "text": [
      "Area: 706.8583470577034\n"
     ]
    }
   ],
   "source": [
    "# Do not write anything here"
   ]
  },
  {
   "cell_type": "markdown",
   "metadata": {
    "id": "0wIkk-mVxuVd"
   },
   "source": [
    "**20. Print the factorial of 12 using the math library.**"
   ]
  },
  {
   "cell_type": "code",
   "execution_count": 3,
   "metadata": {
    "id": "a2JpRPMNxuVd"
   },
   "outputs": [
    {
     "name": "stdout",
     "output_type": "stream",
     "text": [
      "479001600\n"
     ]
    }
   ],
   "source": [
    "# Your answer goes here\n",
    "import math\n",
    "print(math.factorial(12))"
   ]
  },
  {
   "cell_type": "code",
   "execution_count": null,
   "metadata": {
    "id": "Cnq1LBLHxuVe",
    "outputId": "6206d63f-ca3f-42eb-ca3f-ea9f5ac42ec3"
   },
   "outputs": [
    {
     "name": "stdout",
     "output_type": "stream",
     "text": [
      "479001600\n"
     ]
    }
   ],
   "source": [
    "# Do not write anything here"
   ]
  },
  {
   "cell_type": "markdown",
   "metadata": {
    "id": "FpLgZAhcxuVe"
   },
   "source": [
    "**21. Calculate the highest common factor of 25 and 15.**"
   ]
  },
  {
   "cell_type": "code",
   "execution_count": 4,
   "metadata": {
    "id": "Isxh6sqixuVf"
   },
   "outputs": [
    {
     "name": "stdout",
     "output_type": "stream",
     "text": [
      "5\n"
     ]
    }
   ],
   "source": [
    "# Your answer goes here\n",
    "a = 25\n",
    "b = 15\n",
    "\n",
    "if a > b:\n",
    "    smaller = a\n",
    "else:\n",
    "    smaller = b\n",
    "for i in range(1, smaller+1):\n",
    "    if((a % i == 0) and (b % i == 0)):\n",
    "        hcf = i \n",
    "print(hcf)        \n"
   ]
  },
  {
   "cell_type": "code",
   "execution_count": null,
   "metadata": {
    "id": "azySLA5bxuVf",
    "outputId": "517013ba-bbd2-41e3-ab71-719f5ac6d6e4"
   },
   "outputs": [
    {
     "data": {
      "text/plain": [
       "5"
      ]
     },
     "execution_count": 22,
     "metadata": {
      "tags": []
     },
     "output_type": "execute_result"
    }
   ],
   "source": [
    "# Do not write anything here"
   ]
  },
  {
   "cell_type": "markdown",
   "metadata": {
    "id": "cUUa-TZxxuVf"
   },
   "source": [
    "**22. Find the value of sec(81 degrees).**"
   ]
  },
  {
   "cell_type": "code",
   "execution_count": 6,
   "metadata": {
    "id": "18RFFQARxuVf"
   },
   "outputs": [
    {
     "name": "stdout",
     "output_type": "stream",
     "text": [
      "6.392453221499659\n"
     ]
    }
   ],
   "source": [
    "# Your answer goes here\n",
    "import math\n",
    "a = math.radians(81)\n",
    "b = 1/math.cos(a)\n",
    "print(b)"
   ]
  },
  {
   "cell_type": "code",
   "execution_count": null,
   "metadata": {
    "id": "CfBk1VcKxuVg",
    "outputId": "1c000278-0117-439d-e762-345b8a201989"
   },
   "outputs": [
    {
     "data": {
      "text/plain": [
       "6.392453221499659"
      ]
     },
     "execution_count": 23,
     "metadata": {
      "tags": []
     },
     "output_type": "execute_result"
    }
   ],
   "source": [
    "# Do not write anything here"
   ]
  },
  {
   "cell_type": "markdown",
   "metadata": {
    "id": "esllLRwsxuVg"
   },
   "source": [
    "**23. Find the value of `log(25)` with base 5.**"
   ]
  },
  {
   "cell_type": "code",
   "execution_count": 10,
   "metadata": {
    "id": "IODyxo3kxuVg"
   },
   "outputs": [
    {
     "name": "stdout",
     "output_type": "stream",
     "text": [
      "2.0\n"
     ]
    }
   ],
   "source": [
    "# Your answer goes here\n",
    "import math\n",
    "print(math.log(25,5))"
   ]
  },
  {
   "cell_type": "code",
   "execution_count": null,
   "metadata": {
    "id": "A8OWujw-xuVh",
    "outputId": "a0aa72ca-685a-4b58-f140-8c2a19dd7076"
   },
   "outputs": [
    {
     "data": {
      "text/plain": [
       "2.0"
      ]
     },
     "execution_count": 24,
     "metadata": {
      "tags": []
     },
     "output_type": "execute_result"
    }
   ],
   "source": [
    "# Do not write anything here"
   ]
  },
  {
   "cell_type": "markdown",
   "metadata": {
    "id": "485bapgMxuVh"
   },
   "source": [
    "**24. Unpack the tuple `t = (55, 81, 9)` into three variable a, b and c, and print them as shown.**"
   ]
  },
  {
   "cell_type": "code",
   "execution_count": 11,
   "metadata": {
    "id": "DNIysLaFxuVh"
   },
   "outputs": [
    {
     "name": "stdout",
     "output_type": "stream",
     "text": [
      "55 81 9\n"
     ]
    }
   ],
   "source": [
    "# Your answer goes here\n",
    "t = (55, 81, 9)\n",
    "a,b,c = t\n",
    "print(f\"{a} {b} {c}\")"
   ]
  },
  {
   "cell_type": "code",
   "execution_count": null,
   "metadata": {
    "id": "RwPQ74tixuVi",
    "outputId": "9296acc1-807d-4f37-ae2f-e5124ee1eb8d"
   },
   "outputs": [
    {
     "name": "stdout",
     "output_type": "stream",
     "text": [
      "55 81 9\n"
     ]
    }
   ],
   "source": [
    "# Do not write anything here"
   ]
  },
  {
   "cell_type": "markdown",
   "metadata": {
    "id": "6egv02DyxuVi"
   },
   "source": [
    "**25. Given a tuple `t = (10, 30, 5, 18, 7)`, print it's reverse.**"
   ]
  },
  {
   "cell_type": "code",
   "execution_count": 15,
   "metadata": {
    "id": "fvTkh7HxxuVi"
   },
   "outputs": [
    {
     "name": "stdout",
     "output_type": "stream",
     "text": [
      "(7, 18, 5, 30, 10)\n"
     ]
    }
   ],
   "source": [
    "# Your answer goes here\n",
    "t = (10, 30, 5, 18, 7)\n",
    "print(t[::-1])"
   ]
  },
  {
   "cell_type": "code",
   "execution_count": null,
   "metadata": {
    "id": "FZL7GqPgxuVi",
    "outputId": "4e7ac19d-dd44-4569-de55-b71fef0b18ed"
   },
   "outputs": [
    {
     "name": "stdout",
     "output_type": "stream",
     "text": [
      "(7, 18, 5, 30, 10)\n"
     ]
    }
   ],
   "source": [
    "# Do not write anything here"
   ]
  },
  {
   "cell_type": "markdown",
   "metadata": {
    "id": "px-yCR4SxuVj"
   },
   "source": [
    "**26. Find the index of the element `29` in the list `ar = [21, 15, 9, 7, 18, 29, 56, 17, 3]` and replace it by `1000`. Finally print the updated list.**"
   ]
  },
  {
   "cell_type": "code",
   "execution_count": 17,
   "metadata": {
    "id": "X4hZ_UWQxuVj"
   },
   "outputs": [
    {
     "name": "stdout",
     "output_type": "stream",
     "text": [
      "[21, 15, 9, 7, 18, 1000, 56, 17, 3]\n"
     ]
    }
   ],
   "source": [
    "# Your answer goes here\n",
    "ar = [21, 15, 9, 7, 18, 29, 56, 17, 3]\n",
    "for i in range(len(ar)):\n",
    "    if ar[i] == 29:\n",
    "        ar[i] = 1000\n",
    "        break\n",
    "print(ar)    \n",
    "\n"
   ]
  },
  {
   "cell_type": "code",
   "execution_count": null,
   "metadata": {
    "id": "sV2J9AehxuVk",
    "outputId": "ad6285dc-8389-4769-db5f-e633e24e445f"
   },
   "outputs": [
    {
     "name": "stdout",
     "output_type": "stream",
     "text": [
      "[21, 15, 9, 7, 18, 1000, 56, 17, 3]\n"
     ]
    }
   ],
   "source": [
    "# Do not write anything here"
   ]
  },
  {
   "cell_type": "markdown",
   "metadata": {
    "id": "zB4pv3g9xuVk"
   },
   "source": [
    "**27. Given two lists `ar1 = [1, 2, 3, 4, 5]` and `ar2 = [10, 20, 30, 40, 50]`, print them as shown.**"
   ]
  },
  {
   "cell_type": "code",
   "execution_count": 20,
   "metadata": {
    "id": "SdgZ3gCrxuVk"
   },
   "outputs": [
    {
     "name": "stdout",
     "output_type": "stream",
     "text": [
      "[(1, 10), (2, 20), (3, 30), (4, 40), (5, 50)]\n"
     ]
    }
   ],
   "source": [
    "# Your answer goes here\n",
    "ar1 = [1, 2, 3, 4, 5]\n",
    "ar2 = [10, 20, 30, 40, 50]\n",
    "print(list(zip(ar1,ar2)))"
   ]
  },
  {
   "cell_type": "code",
   "execution_count": null,
   "metadata": {
    "id": "0VIPAjJ7xuVl",
    "outputId": "b5d8dba2-1eac-4603-86ba-6e92d21c51f7"
   },
   "outputs": [
    {
     "name": "stdout",
     "output_type": "stream",
     "text": [
      "[(1, 10), (2, 20), (3, 30), (4, 40), (5, 50)]\n"
     ]
    }
   ],
   "source": [
    "# Do not write anything here"
   ]
  },
  {
   "cell_type": "markdown",
   "metadata": {
    "id": "SUuZ5ZyfxuVl"
   },
   "source": [
    "**28. Divide the list `ar = [21, 15, 9, 7, 18, 29, 56, 17, 3]` into 3 equal parts, reverse them and join them. Print the megred list.**"
   ]
  },
  {
   "cell_type": "code",
   "execution_count": 21,
   "metadata": {
    "id": "y_pn8_HMxuVm"
   },
   "outputs": [
    {
     "name": "stdout",
     "output_type": "stream",
     "text": [
      "[9, 15, 21, 29, 18, 7, 3, 17, 56]\n"
     ]
    }
   ],
   "source": [
    "# Your answer goes here\n",
    "ar = [21, 15, 9, 7, 18, 29, 56, 17, 3]\n",
    "n = 3\n",
    "x = [ar[i:i + n] for i in range(0, len(ar), n)]\n",
    "list1 = x[0]\n",
    "list2 = x[1]\n",
    "list3 = x[2]\n",
    "rev_list1 = list1[::-1]\n",
    "rev_list2 = list2[::-1]\n",
    "rev_list3 = list3[::-1]\n",
    "merge_list = rev_list1 + rev_list2 + rev_list3\n",
    "print(merge_list)\n"
   ]
  },
  {
   "cell_type": "code",
   "execution_count": null,
   "metadata": {
    "id": "GwkWR97kxuVm",
    "outputId": "f0b221aa-ee31-4919-dc3c-260870971053"
   },
   "outputs": [
    {
     "name": "stdout",
     "output_type": "stream",
     "text": [
      "[9, 15, 21, 29, 18, 7, 3, 17, 56]\n"
     ]
    }
   ],
   "source": [
    "# Do not write anything here"
   ]
  },
  {
   "cell_type": "markdown",
   "metadata": {
    "id": "URHDWobDxuVn"
   },
   "source": [
    "**29. Given a list `ar = [1, 5, 7, 3, 9, 2, 4]`, remove the middle element and add it to the beginning and end of the list.**"
   ]
  },
  {
   "cell_type": "code",
   "execution_count": 2,
   "metadata": {
    "id": "s35BJ1AmxuVn"
   },
   "outputs": [
    {
     "name": "stdout",
     "output_type": "stream",
     "text": [
      "[3, 1, 5, 7, 9, 2, 4, 3]\n"
     ]
    }
   ],
   "source": [
    "# Your answer goes here\n",
    "ar = [1, 5, 7, 3, 9, 2, 4]\n",
    "mid_ele_index = len(ar)//2\n",
    "mid_ele = ar[mid_ele_index]\n",
    "ar.remove(mid_ele)\n",
    "ar.insert(0,mid_ele)\n",
    "ar.extend([mid_ele])\n",
    "print(ar)"
   ]
  },
  {
   "cell_type": "code",
   "execution_count": null,
   "metadata": {
    "id": "ABOSJzvLxuVo",
    "outputId": "283dd376-458d-4405-e69e-95ddb2d0d3f7"
   },
   "outputs": [
    {
     "data": {
      "text/plain": [
       "[3, 1, 5, 7, 9, 2, 4, 3]"
      ]
     },
     "execution_count": 30,
     "metadata": {
      "tags": []
     },
     "output_type": "execute_result"
    }
   ],
   "source": [
    "# Do not write anything here"
   ]
  },
  {
   "cell_type": "markdown",
   "metadata": {
    "id": "-qY1IO2ZxuVo"
   },
   "source": [
    "**30. Given a list `ar = [1, 2, [10, 20, [30, 40], 50, 60], 3]` insert `70` right between `30` and `40` and then print the modified list.**"
   ]
  },
  {
   "cell_type": "code",
   "execution_count": 3,
   "metadata": {
    "id": "3pyX0AEPxuVp"
   },
   "outputs": [
    {
     "name": "stdout",
     "output_type": "stream",
     "text": [
      "[1, 2, [10, 20, [30, 70, 40], 50, 60], 3]\n"
     ]
    }
   ],
   "source": [
    "# Your answer goes here\n",
    "ar = [1, 2, [10, 20, [30, 40], 50, 60], 3]\n",
    "ar[2][2].insert(1,70)\n",
    "print(ar)"
   ]
  },
  {
   "cell_type": "code",
   "execution_count": null,
   "metadata": {
    "id": "tzgCXPM7xuVp",
    "outputId": "22d20ebf-bc6e-4096-95ec-e11e980bf52f"
   },
   "outputs": [
    {
     "name": "stdout",
     "output_type": "stream",
     "text": [
      "[1, 2, [10, 20, [30, 70, 40], 50, 60], 3]\n"
     ]
    }
   ],
   "source": [
    "# Do not write anything here"
   ]
  },
  {
   "cell_type": "markdown",
   "metadata": {
    "id": "Pp0QRf12xuVp"
   },
   "source": [
    "**31. Given a variable named `s = \"Hello World\"`, write the code to print only those characters which are present at odd index.**"
   ]
  },
  {
   "cell_type": "code",
   "execution_count": 4,
   "metadata": {
    "id": "RrRHsyjtxuVq"
   },
   "outputs": [
    {
     "name": "stdout",
     "output_type": "stream",
     "text": [
      "e\n",
      "l\n",
      " \n",
      "o\n",
      "l\n"
     ]
    }
   ],
   "source": [
    "# Your answer goes here\n",
    "s = \"Hello World\"\n",
    "for i in range(len(s)):\n",
    "    if i % 2 != 0:\n",
    "        print(s[i])"
   ]
  },
  {
   "cell_type": "code",
   "execution_count": null,
   "metadata": {
    "id": "rSBkz3nRxuVq",
    "outputId": "2511b6a0-d7bc-474c-c969-22a9bff3ca4a"
   },
   "outputs": [
    {
     "name": "stdout",
     "output_type": "stream",
     "text": [
      "e\n",
      "l\n",
      " \n",
      "o\n",
      "l\n"
     ]
    }
   ],
   "source": [
    "# Do not write anything here"
   ]
  },
  {
   "cell_type": "markdown",
   "metadata": {
    "id": "MqB7-4mVxuVq"
   },
   "source": [
    "**32. Given a list `ar = [10, 21, 15, 14, 63, 18, 71, 56]`, print the sum of all the values in the list which are divisible by 7.**"
   ]
  },
  {
   "cell_type": "code",
   "execution_count": 8,
   "metadata": {
    "id": "sYtDCmiYxuVr"
   },
   "outputs": [
    {
     "name": "stdout",
     "output_type": "stream",
     "text": [
      "154\n"
     ]
    }
   ],
   "source": [
    "# Your answer goes here\n",
    "ar = [10, 21, 15, 14, 63, 18, 71, 56]\n",
    "sum_of_no = 0\n",
    "for i in range(len(ar)):\n",
    "    if ar[i] % 7 == 0 :\n",
    "        sum_of_no += ar[i] \n",
    "print(sum_of_no)\n"
   ]
  },
  {
   "cell_type": "code",
   "execution_count": null,
   "metadata": {
    "id": "XUOmaWNtxuVr",
    "outputId": "b40e1632-eba0-42c3-d747-08b01a39e150"
   },
   "outputs": [
    {
     "name": "stdout",
     "output_type": "stream",
     "text": [
      "154\n"
     ]
    }
   ],
   "source": [
    "# Do not write anything here"
   ]
  },
  {
   "cell_type": "markdown",
   "metadata": {
    "id": "wg8SBGRdxuVr"
   },
   "source": [
    "**33. Print the pattern without using nested loop.**"
   ]
  },
  {
   "cell_type": "code",
   "execution_count": 9,
   "metadata": {
    "id": "AGL3MDdNxuVr"
   },
   "outputs": [
    {
     "name": "stdout",
     "output_type": "stream",
     "text": [
      "    1    \n",
      "   222   \n",
      "  33333  \n",
      " 4444444 \n",
      "555555555\n",
      " 4444444 \n",
      "  33333  \n",
      "   222   \n",
      "    1    \n"
     ]
    }
   ],
   "source": [
    "# Your answer goes here\n",
    "print(f\"{'1'*1:^9}\")\n",
    "print(f\"{'2'*3:^9}\")\n",
    "print(f\"{'3'*5:^9}\")\n",
    "print(f\"{'4'*7:^9}\")\n",
    "print(f\"{'5'*9:^9}\")\n",
    "print(f\"{'4'*7:^9}\")\n",
    "print(f\"{'3'*5:^9}\")\n",
    "print(f\"{'2'*3:^9}\")\n",
    "print(f\"{'1'*1:^9}\")"
   ]
  },
  {
   "cell_type": "code",
   "execution_count": null,
   "metadata": {
    "id": "_tTJujqMxuVr",
    "outputId": "5e2a09e7-bc3b-40c8-a593-968139713616"
   },
   "outputs": [
    {
     "name": "stdout",
     "output_type": "stream",
     "text": [
      "    1\n",
      "   222\n",
      "  33333\n",
      " 4444444\n",
      "555555555\n",
      " 4444444\n",
      "  33333\n",
      "   222\n",
      "    1\n"
     ]
    }
   ],
   "source": [
    "# Do not write anything here"
   ]
  },
  {
   "cell_type": "markdown",
   "metadata": {
    "id": "KrsLm5x3xuVs"
   },
   "source": [
    "**34. Take an integer number as input from the user ad check if the number remains same on reversing it. (You should use `int(input())` to take input)**"
   ]
  },
  {
   "cell_type": "code",
   "execution_count": 3,
   "metadata": {
    "id": "lE4iduo6xuVs"
   },
   "outputs": [
    {
     "name": "stdout",
     "output_type": "stream",
     "text": [
      "101\n",
      "True\n"
     ]
    }
   ],
   "source": [
    "# Your answer goes here\n",
    "a = int(input())\n",
    "orginal_no = a\n",
    "rev_a = 0\n",
    "while(a != 0):\n",
    "    rem = a % 10\n",
    "    rev_a = rev_a * 10 + rem\n",
    "    a = a // 10    \n",
    "print(True if orginal_no == rev_a else False) "
   ]
  },
  {
   "cell_type": "code",
   "execution_count": null,
   "metadata": {
    "id": "f4L7vTeDxuVt",
    "outputId": "7d866cfd-7e85-455f-ecc1-d25cc337e8ef"
   },
   "outputs": [
    {
     "name": "stdout",
     "output_type": "stream",
     "text": [
      "101\n",
      "True\n"
     ]
    }
   ],
   "source": [
    "# Do not write anything here"
   ]
  },
  {
   "cell_type": "markdown",
   "metadata": {
    "id": "C92wjt4LxuVt"
   },
   "source": [
    "**35. Given two sets `set1 = {1, 3, 5, 4, 8}` and `set2 = {3, 7, 8, 9, 11}`, print the set of elements that are present in both sets.**"
   ]
  },
  {
   "cell_type": "code",
   "execution_count": 17,
   "metadata": {
    "id": "zV7hml35xuVt"
   },
   "outputs": [
    {
     "name": "stdout",
     "output_type": "stream",
     "text": [
      "{8, 3}\n"
     ]
    }
   ],
   "source": [
    "# Your answer goes here\n",
    "set1 = {1, 3, 5, 4, 8} \n",
    "set2 = {3, 7, 8, 9, 11}\n",
    "print(set2.intersection(set1))"
   ]
  },
  {
   "cell_type": "code",
   "execution_count": null,
   "metadata": {
    "id": "KcmQaJZVxuVt",
    "outputId": "5c24fbcd-5e07-41ce-8f22-ba66fcc0512b",
    "scrolled": true
   },
   "outputs": [
    {
     "data": {
      "text/plain": [
       "{3, 8}"
      ]
     },
     "execution_count": 36,
     "metadata": {
      "tags": []
     },
     "output_type": "execute_result"
    }
   ],
   "source": [
    "# Do not write anything here"
   ]
  },
  {
   "cell_type": "markdown",
   "metadata": {
    "id": "PQ1o_SpAxuVu"
   },
   "source": [
    "**36. Given two lists `item = ['A', 'B', 'C', 'D']` and `cost = [30, 50, 25, 80]`, create a dictionary using these two lists where the item is the key and the cost is the value**"
   ]
  },
  {
   "cell_type": "code",
   "execution_count": 18,
   "metadata": {
    "id": "-wtB3Ti2xuVu"
   },
   "outputs": [
    {
     "name": "stdout",
     "output_type": "stream",
     "text": [
      "{'A': 30, 'B': 50, 'C': 25, 'D': 80}\n"
     ]
    }
   ],
   "source": [
    "# Your answer goes here\n",
    "item = ['A', 'B', 'C', 'D']\n",
    "cost = [30, 50, 25, 80]\n",
    "result = dict()\n",
    "for i in range(len(cost)):\n",
    "    result[item[i]] = cost[i]\n",
    "print(result)    "
   ]
  },
  {
   "cell_type": "code",
   "execution_count": null,
   "metadata": {
    "id": "5Y0WyEN1xuVu",
    "outputId": "5c591717-9e0e-4294-9266-6c2100baeadb",
    "scrolled": true
   },
   "outputs": [
    {
     "name": "stdout",
     "output_type": "stream",
     "text": [
      "{'A': 30, 'B': 50, 'C': 25, 'D': 80}\n"
     ]
    }
   ],
   "source": [
    "# Do not write anything here"
   ]
  },
  {
   "cell_type": "markdown",
   "metadata": {
    "id": "zulTbMncxuVu"
   },
   "source": [
    "**37. Given a dictionary `dict_a = {'A': [1, 5, 6, 8, [10, \"ABCD\"], 5 + 7j], 'B': [10, 20, 30, [40, {\"Hello\": ['My name is John']}]]}` access and print the name `'John'` from it.**"
   ]
  },
  {
   "cell_type": "code",
   "execution_count": 20,
   "metadata": {
    "id": "XqskU-YyxuVu"
   },
   "outputs": [
    {
     "name": "stdout",
     "output_type": "stream",
     "text": [
      "John\n"
     ]
    }
   ],
   "source": [
    "dict_a = {'A': [1, 5, 6, 8, [10, \"ABCD\"], 5 + 7j], 'B': [10, 20, 30, [40, {\"Hello\": ['My name is John']}]]}\n",
    "# Your answer goes here\n",
    "print(dict_a['B'][3][1][\"Hello\"][0][11:])"
   ]
  },
  {
   "cell_type": "code",
   "execution_count": null,
   "metadata": {
    "id": "E3I4Y1d7xuVv",
    "outputId": "96cd2bfb-8166-45a8-bd82-b4b00023f124",
    "scrolled": true
   },
   "outputs": [
    {
     "name": "stdout",
     "output_type": "stream",
     "text": [
      "John\n"
     ]
    }
   ],
   "source": [
    "# Do not write anything here"
   ]
  },
  {
   "cell_type": "markdown",
   "metadata": {
    "id": "5Zs_MPX9xuVv"
   },
   "source": [
    "**38. Check if the value `100` is one the values in the dictionary `d = {'a': 20, 'b': 70, 'c': 100, 'd': 119}`.**"
   ]
  },
  {
   "cell_type": "code",
   "execution_count": 22,
   "metadata": {
    "id": "HGe49FVlxuVv"
   },
   "outputs": [
    {
     "name": "stdout",
     "output_type": "stream",
     "text": [
      "True\n"
     ]
    }
   ],
   "source": [
    "# Your answer goes here\n",
    "d = {'a': 20, 'b': 70, 'c': 100, 'd': 119}\n",
    "print(True if 100 in d.values() else False)"
   ]
  },
  {
   "cell_type": "code",
   "execution_count": null,
   "metadata": {
    "id": "53BwivCwxuVv",
    "outputId": "537b941b-a439-456d-8844-6847ebbe6e52",
    "scrolled": true
   },
   "outputs": [
    {
     "name": "stdout",
     "output_type": "stream",
     "text": [
      "True\n"
     ]
    }
   ],
   "source": [
    "# Do not write anything here"
   ]
  },
  {
   "cell_type": "markdown",
   "metadata": {
    "id": "mWsQ4So6xuVw"
   },
   "source": [
    "**39. Given a list `ar = [5, 6, 1, 3, 7, 7, 7, 6, 4, 6, 5, 4, 4, 5, 4, 4, 7, 2, 6, 2]`, count the occurrence of all the unique elements of the list and create a dictionary where the keys are the elements of the list and the values are their corresponding count.**"
   ]
  },
  {
   "cell_type": "code",
   "execution_count": 24,
   "metadata": {
    "id": "3RXzqjufxuVw"
   },
   "outputs": [
    {
     "name": "stdout",
     "output_type": "stream",
     "text": [
      "{5: 3, 6: 4, 1: 1, 3: 1, 7: 4, 4: 5, 2: 2}\n"
     ]
    }
   ],
   "source": [
    "# Your answer goes here\n",
    "ar = [5, 6, 1, 3, 7, 7, 7, 6, 4, 6, 5, 4, 4, 5, 4, 4, 7, 2, 6, 2]\n",
    "freq = dict()\n",
    "for item in ar: \n",
    "        if (item in freq.keys()): \n",
    "            freq[item] += 1\n",
    "        else: \n",
    "            freq[item] = 1\n",
    "print(freq)            \n"
   ]
  },
  {
   "cell_type": "code",
   "execution_count": null,
   "metadata": {
    "id": "jehaYvyGxuVw",
    "outputId": "072cc787-0b13-4800-9d9c-207ff8f6267a",
    "scrolled": true
   },
   "outputs": [
    {
     "name": "stdout",
     "output_type": "stream",
     "text": [
      "{5: 3, 6: 4, 1: 1, 3: 1, 7: 4, 4: 5, 2: 2}\n"
     ]
    }
   ],
   "source": [
    "# Do not write anything here"
   ]
  },
  {
   "cell_type": "markdown",
   "metadata": {
    "id": "ZH_mq5jfxuVw"
   },
   "source": [
    "**40. Input a positive integer from the user and calculate of sum of all even numbers from 2 to that number (included).**"
   ]
  },
  {
   "cell_type": "code",
   "execution_count": 4,
   "metadata": {
    "id": "2iRY09JUxuVx"
   },
   "outputs": [
    {
     "name": "stdout",
     "output_type": "stream",
     "text": [
      "Enter a number: 100\n",
      "Sum: 2550\n"
     ]
    }
   ],
   "source": [
    "# Your answer goes here\n",
    "n = int(input(\"Enter a number: \"))\n",
    "sum_of_no = 0\n",
    "for i in range(2,n+1):\n",
    "    if i % 2 == 0:\n",
    "        sum_of_no += i\n",
    "print(f\"Sum: {sum_of_no}\")    "
   ]
  },
  {
   "cell_type": "code",
   "execution_count": null,
   "metadata": {
    "id": "R0V17icOxuVx",
    "outputId": "29434642-767a-4dce-d1e6-858256cfa164",
    "scrolled": true
   },
   "outputs": [
    {
     "name": "stdout",
     "output_type": "stream",
     "text": [
      "Enter a number: 100\n",
      "Sum: 2550\n"
     ]
    }
   ],
   "source": [
    "# Do not write anything here"
   ]
  },
  {
   "cell_type": "markdown",
   "metadata": {
    "id": "up69nZvfxuVx"
   },
   "source": [
    "**41. Input a number from the user and count the sum of digits. If the sum is greater than 20, print `\"Hello\"`, otherwise print `\"World\"`.**"
   ]
  },
  {
   "cell_type": "code",
   "execution_count": 5,
   "metadata": {
    "id": "RAV2iCLkxuVx"
   },
   "outputs": [
    {
     "name": "stdout",
     "output_type": "stream",
     "text": [
      "Enter a number: 2983\n",
      "Hello\n"
     ]
    }
   ],
   "source": [
    "# Your answer goes here\n",
    "n = int(input(\"Enter a number: \"))\n",
    "sum_of_no = 0\n",
    "while(n !=0):\n",
    "    sum_of_no += n %10\n",
    "    n = n //10\n",
    "print(\"Hello\" if sum_of_no > 20 else \"World\")    "
   ]
  },
  {
   "cell_type": "code",
   "execution_count": null,
   "metadata": {
    "id": "tYqsJdxwxuVy",
    "outputId": "00ae983a-da90-4571-c08f-96be95063c9c",
    "scrolled": true
   },
   "outputs": [
    {
     "name": "stdout",
     "output_type": "stream",
     "text": [
      "Enter a number: 2983\n",
      "Hello\n"
     ]
    }
   ],
   "source": [
    "# Do not write anything here"
   ]
  },
  {
   "cell_type": "markdown",
   "metadata": {
    "id": "owIdOdP2xuVy"
   },
   "source": [
    "**42. Repeatedly take a number as input from the user. Stop when any of the inputs is greater than 100 or less than 0.**"
   ]
  },
  {
   "cell_type": "code",
   "execution_count": 6,
   "metadata": {
    "id": "quFpr6TvxuVy"
   },
   "outputs": [
    {
     "name": "stdout",
     "output_type": "stream",
     "text": [
      "Enter number: 20\n",
      "Enter number: 0\n",
      "Enter number: 80\n",
      "Enter number: 100\n",
      "Enter number: 19\n",
      "Enter number: 56\n",
      "Enter number: 101\n",
      "Stopped\n"
     ]
    }
   ],
   "source": [
    "# Your answer goes here\n",
    "flag = True\n",
    "while(flag):\n",
    "    a = int(input(\"Enter number: \"))\n",
    "    if a > 100 or a < 0 :\n",
    "        flag = False\n",
    "        print(\"Stopped\") "
   ]
  },
  {
   "cell_type": "code",
   "execution_count": null,
   "metadata": {
    "id": "dKzswXPExuVy",
    "outputId": "708d14a7-ba61-4149-f3a3-6b95bc2b9eaf",
    "scrolled": true
   },
   "outputs": [
    {
     "name": "stdout",
     "output_type": "stream",
     "text": [
      "Enter number: 20\n",
      "Enter number: 0\n",
      "Enter number: 80\n",
      "Enter number: 100\n",
      "Enter number: 19\n",
      "Enter number: 56\n",
      "Enter number: 101\n",
      "Stopped\n"
     ]
    }
   ],
   "source": [
    "# Do not write anything here"
   ]
  },
  {
   "cell_type": "markdown",
   "metadata": {
    "id": "uQvl_BGGxuVy"
   },
   "source": [
    "**43. Write a function `func(s)` in which the input is an email and the output should be the part of the email before the '@'. `func(\"JohnDoe@gmail.com\")` should give `'JohnDoe'`.**"
   ]
  },
  {
   "cell_type": "code",
   "execution_count": 34,
   "metadata": {
    "id": "d_AGBVL9xuVz"
   },
   "outputs": [
    {
     "name": "stdout",
     "output_type": "stream",
     "text": [
      "JohnDoe\n"
     ]
    }
   ],
   "source": [
    "# Your answer goes here\n",
    "def func(s):\n",
    "    result =\"\"\n",
    "    for i in s:\n",
    "        if i == \"@\":\n",
    "            break\n",
    "        result += i\n",
    "        \n",
    "    return result    \n",
    "\n",
    "if __name__ == \"__main__\":\n",
    "    print(func(\"JohnDoe@gmail.com\"))"
   ]
  },
  {
   "cell_type": "code",
   "execution_count": null,
   "metadata": {
    "id": "oQwn1ZC9xuVz",
    "outputId": "6b912ae6-1e38-49e3-bf8b-9b948fec993c",
    "scrolled": true
   },
   "outputs": [
    {
     "data": {
      "text/plain": [
       "'JohnDoe'"
      ]
     },
     "execution_count": 44,
     "metadata": {
      "tags": []
     },
     "output_type": "execute_result"
    }
   ],
   "source": [
    "# Do not write anything here"
   ]
  },
  {
   "cell_type": "markdown",
   "metadata": {
    "id": "p6mC1g54xuVz"
   },
   "source": [
    "**44. Write a function `reverse(s)` that recursively reverses a string. `reverse(\"Hello World\")` should give the output `'dlroW olleH'`.**"
   ]
  },
  {
   "cell_type": "code",
   "execution_count": 35,
   "metadata": {
    "id": "AiRCoqeCxuVz"
   },
   "outputs": [
    {
     "name": "stdout",
     "output_type": "stream",
     "text": [
      "dlroW olleH\n"
     ]
    }
   ],
   "source": [
    "# Your answer goes here\n",
    "def reverse(s):\n",
    "    if len(s) == 0:\n",
    "        return s\n",
    "    else:\n",
    "        return reverse(s[1:]) + s[0]\n",
    "\n",
    "if __name__==\"__main__\":\n",
    "    print(reverse(\"Hello World\"))\n"
   ]
  },
  {
   "cell_type": "code",
   "execution_count": null,
   "metadata": {
    "id": "v0CO4ipixuV0",
    "outputId": "ce1c070f-aaa0-4ada-e4e5-93e4064706ba",
    "scrolled": true
   },
   "outputs": [
    {
     "data": {
      "text/plain": [
       "'dlroW olleH'"
      ]
     },
     "execution_count": 45,
     "metadata": {
      "tags": []
     },
     "output_type": "execute_result"
    }
   ],
   "source": [
    "# Do not write anything here"
   ]
  },
  {
   "cell_type": "markdown",
   "metadata": {
    "id": "QR0g_we0xuV0"
   },
   "source": [
    "**45. Write a function `unique(ar)` that takes a list and returns a copy of the list in descending order with all the duplicates removed. Use `ar = [5, 6, 1, 3, 7, 7, 7, 6, 4, 6, 5, 4, 4, 5, 4, 4, 7, 2, 6, 2]` and call the function as `unique(ar)`.**"
   ]
  },
  {
   "cell_type": "code",
   "execution_count": 36,
   "metadata": {
    "id": "gMrc8vmuxuV0"
   },
   "outputs": [
    {
     "name": "stdout",
     "output_type": "stream",
     "text": [
      "[7, 6, 5, 4, 3, 2, 1]\n"
     ]
    }
   ],
   "source": [
    "# Your answer goes here\n",
    "def unique(ar):\n",
    "    list_copy = ar.copy()\n",
    "    dup_rem_list = list(set(list_copy))\n",
    "    return sorted(dup_rem_list,reverse=True)\n",
    "\n",
    "if __name__ == \"__main__\":\n",
    "    ar = [5, 6, 1, 3, 7, 7, 7, 6, 4, 6, 5, 4, 4, 5, 4, 4, 7, 2, 6, 2]\n",
    "    print(unique(ar))"
   ]
  },
  {
   "cell_type": "code",
   "execution_count": null,
   "metadata": {
    "id": "tTks_E5ZxuV0",
    "outputId": "5813c7f1-a5ab-4b8f-bfd9-a8aff64e36fb",
    "scrolled": true
   },
   "outputs": [
    {
     "data": {
      "text/plain": [
       "[7, 6, 5, 4, 3, 2, 1]"
      ]
     },
     "execution_count": 46,
     "metadata": {
      "tags": []
     },
     "output_type": "execute_result"
    }
   ],
   "source": [
    "# Do not write anything here"
   ]
  },
  {
   "cell_type": "markdown",
   "metadata": {
    "id": "MDZBMGuYxuV0"
   },
   "source": [
    "**46. Create a class named `Example` that doesn't contain any parameter or method. Then create an object of that class and print it.**  \n",
    "(In the output, the part after the 'object at' will be different for you)"
   ]
  },
  {
   "cell_type": "code",
   "execution_count": 38,
   "metadata": {
    "id": "EpJEE--ExuV1"
   },
   "outputs": [
    {
     "name": "stdout",
     "output_type": "stream",
     "text": [
      "<__main__.Example object at 0x000002643AFE4808>\n"
     ]
    }
   ],
   "source": [
    "# Your answer goes here\n",
    "class Example:\n",
    "    pass\n",
    "obj = Example()\n",
    "print(obj)"
   ]
  },
  {
   "cell_type": "code",
   "execution_count": null,
   "metadata": {
    "id": "HRXl0lIlxuV1",
    "outputId": "ec1d80e5-fe6c-41db-9357-71fb3e8b2862",
    "scrolled": true
   },
   "outputs": [
    {
     "name": "stdout",
     "output_type": "stream",
     "text": [
      "<__main__.Example object at 0x000002576663AE20>\n"
     ]
    }
   ],
   "source": [
    "# Do not write anything here"
   ]
  },
  {
   "cell_type": "markdown",
   "metadata": {
    "id": "LQvfV2gMxuV1"
   },
   "source": [
    "**47. Given the following class `Employee`, create a class `Intern` that will inherit all the properties of Employee, along with another paramater `duration` and a method `display(self)` that will display all the propertieso of `Intern`. Then create an object on the class `Intern` and call the `display` method.**"
   ]
  },
  {
   "cell_type": "code",
   "execution_count": 40,
   "metadata": {
    "id": "HcWY_hHLxuV1"
   },
   "outputs": [
    {
     "name": "stdout",
     "output_type": "stream",
     "text": [
      "Name: Michael\n",
      "ID: 1234\n",
      "Salary: 210000\n",
      "Duration: 12\n"
     ]
    }
   ],
   "source": [
    "class Employee:\n",
    "    def __init__(self,name, emp_id, salary):\n",
    "        self.name = name\n",
    "        self.salary = salary\n",
    "        self.emp_id = emp_id\n",
    "# Your answer goes here\n",
    "class Intern(Employee):\n",
    "    def __init__(self,name,emp_id,salary,duration):\n",
    "        super().__init__(name,emp_id,salary)\n",
    "        self.duration = duration  \n",
    "    def display(self):\n",
    "        print(f\"Name: {self.name}\\nID: {self.emp_id}\\nSalary: {self.salary}\\nDuration: {self.duration}\") \n",
    "\n",
    "obj = Intern(\"Michael\",1234,210000,12)   \n",
    "obj.display()       "
   ]
  },
  {
   "cell_type": "code",
   "execution_count": null,
   "metadata": {
    "id": "hT3gGrvmxuV2",
    "outputId": "7688580c-aed9-45a7-f391-2a969f980f49",
    "scrolled": true
   },
   "outputs": [
    {
     "name": "stdout",
     "output_type": "stream",
     "text": [
      "Name: Michael\n",
      "ID: 1234\n",
      "Salary: 210000\n",
      "Duration: 12\n"
     ]
    }
   ],
   "source": [
    "# Do not write anything here"
   ]
  }
 ],
 "metadata": {
  "colab": {
   "collapsed_sections": [],
   "name": "Assignment.ipynb",
   "provenance": []
  },
  "kernelspec": {
   "display_name": "Python 3",
   "language": "python",
   "name": "python3"
  },
  "language_info": {
   "codemirror_mode": {
    "name": "ipython",
    "version": 3
   },
   "file_extension": ".py",
   "mimetype": "text/x-python",
   "name": "python",
   "nbconvert_exporter": "python",
   "pygments_lexer": "ipython3",
   "version": "3.8.3"
  }
 },
 "nbformat": 4,
 "nbformat_minor": 1
}
