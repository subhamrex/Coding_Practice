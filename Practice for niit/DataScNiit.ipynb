{
 "metadata": {
  "language_info": {
   "codemirror_mode": {
    "name": "ipython",
    "version": 3
   },
   "file_extension": ".py",
   "mimetype": "text/x-python",
   "name": "python",
   "nbconvert_exporter": "python",
   "pygments_lexer": "ipython3",
   "version": "3.7.9-final"
  },
  "orig_nbformat": 2,
  "kernelspec": {
   "name": "python3",
   "display_name": "Python 3.7.9 64-bit",
   "metadata": {
    "interpreter": {
     "hash": "fece9804e4562741ddc2764ec927e88e65736da01e14c53f8671c070fcedc0fe"
    }
   }
  }
 },
 "nbformat": 4,
 "nbformat_minor": 2,
 "cells": [
  {
   "cell_type": "code",
   "execution_count": 1,
   "metadata": {},
   "outputs": [
    {
     "output_type": "execute_result",
     "data": {
      "text/plain": [
       "65"
      ]
     },
     "metadata": {},
     "execution_count": 1
    }
   ],
   "source": [
    "ord('A')"
   ]
  },
  {
   "cell_type": "code",
   "execution_count": 6,
   "metadata": {},
   "outputs": [
    {
     "output_type": "stream",
     "name": "stdout",
     "text": [
      "HELLO WORLD\n"
     ]
    }
   ],
   "source": [
    "\n",
    "s = \"Hello World\"\n",
    "# Your answer goes here\n",
    "result = \"\"\n",
    "for i in s:\n",
    "    char = ord(i)\n",
    "    if char>=97 and char<=122:\n",
    "        result += chr(char-32)\n",
    "    else:\n",
    "        result += i   \n",
    "print(result) "
   ]
  },
  {
   "cell_type": "code",
   "execution_count": 17,
   "metadata": {},
   "outputs": [
    {
     "output_type": "stream",
     "name": "stdout",
     "text": [
      "Hello worlD\n"
     ]
    }
   ],
   "source": [
    "s = \"hello world\"\n",
    "result = \"\"\n",
    "for i in range(len(s)):\n",
    "    char = ord(s[i])\n",
    "    if char >= 97 and char <= 122 and (i == 0 or i == len(s)-1):\n",
    "        result += chr(char-32)\n",
    "    else:\n",
    "        result += s[i]   \n",
    "print(result) "
   ]
  },
  {
   "cell_type": "code",
   "execution_count": 23,
   "metadata": {},
   "outputs": [
    {
     "output_type": "stream",
     "name": "stdout",
     "text": [
      "['Hello', 'John.\\n', 'Good', 'Morning!']\n"
     ]
    }
   ],
   "source": [
    "s = \"Hello John.\\n Good Morning!\"\n",
    "result = list(s.split(\" \"))\n",
    "print(result)"
   ]
  },
  {
   "cell_type": "code",
   "execution_count": null,
   "metadata": {},
   "outputs": [],
   "source": []
  }
 ]
}